{
 "cells": [
  {
   "cell_type": "code",
   "execution_count": null,
   "metadata": {},
   "outputs": [],
   "source": [
    "import pandas as pd\n",
    "import numpy as np"
   ]
  },
  {
   "cell_type": "code",
   "execution_count": null,
   "metadata": {},
   "outputs": [],
   "source": [
    "datos = pd.read_csv('pc.csv',delimiter=',')\n",
    "datos"
   ]
  },
  {
   "cell_type": "code",
   "execution_count": null,
   "metadata": {},
   "outputs": [],
   "source": [
    "links_p = datos['links_p']\n",
    "links_p = links_p.str.split(\",\", expand=True).T\n",
    "lf0 = links_p[0]\n",
    "lf1 = links_p[1]\n",
    "linksfinal = pd.DataFrame(lf0.append(lf1,ignore_index= True),columns=['links'])\n",
    "linksfinal"
   ]
  },
  {
   "cell_type": "code",
   "execution_count": null,
   "metadata": {},
   "outputs": [],
   "source": [
    "precios_p = datos['precios_p']\n",
    "precios_p = precios_p.str.split(\",\", expand=True).T\n",
    "precios_p"
   ]
  },
  {
   "cell_type": "code",
   "execution_count": null,
   "metadata": {},
   "outputs": [],
   "source": [
    "rf0 = precios_p[0]\n",
    "rf0\n",
    "rf1 = precios_p[1]\n",
    "rf1"
   ]
  },
  {
   "cell_type": "code",
   "execution_count": null,
   "metadata": {},
   "outputs": [],
   "source": [
    "preciosfinal = pd.DataFrame(rf0.append(rf1,ignore_index= True),columns=['precios'])\n",
    "preciosfinal"
   ]
  },
  {
   "cell_type": "code",
   "execution_count": null,
   "metadata": {},
   "outputs": [],
   "source": [
    "nombre_p = datos['nombre_p']\n",
    "nombre_p = nombre_p.str.replace(\"\\n                                \",\"\")\n",
    "nombre_p = nombre_p.str.replace(\"                            \",\"\")\n",
    "nombre_p = nombre_p.str.replace(\"\\n\",\",\")\n",
    "nombre_p = nombre_p.str.replace(\"Video \",\"\")\n",
    "nombre_p"
   ]
  },
  {
   "cell_type": "markdown",
   "metadata": {},
   "source": [
    "spliteamos las comas en columnas y sacamos la traspuesta con .T"
   ]
  },
  {
   "cell_type": "code",
   "execution_count": null,
   "metadata": {},
   "outputs": [],
   "source": [
    "nombre_p = nombre_p.str.split(\",\", expand=True).T\n",
    "df0 = pd.Series(nombre_p[0])\n",
    "df0\n",
    "df1 = pd.Series(nombre_p[1])\n",
    "df1\n",
    "\n",
    "nombrefinal = pd.DataFrame(df0.append(df1,ignore_index= True),columns=['nombre'])\n",
    "nombrefinal"
   ]
  },
  {
   "cell_type": "code",
   "execution_count": null,
   "metadata": {},
   "outputs": [],
   "source": [
    "stock_p = datos['stock_p']\n",
    "stock_p"
   ]
  },
  {
   "cell_type": "code",
   "execution_count": null,
   "metadata": {},
   "outputs": [],
   "source": [
    "stock_p = stock_p.str.replace(\" Unid.\",\"\")\n",
    "stock_p"
   ]
  },
  {
   "cell_type": "code",
   "execution_count": null,
   "metadata": {},
   "outputs": [],
   "source": [
    "stock_p =stock_p.str.split(\",\", expand=True).T\n",
    "stock_p"
   ]
  },
  {
   "cell_type": "code",
   "execution_count": null,
   "metadata": {},
   "outputs": [],
   "source": [
    "st0 = stock_p[0]\n",
    "st0\n",
    "st1 = stock_p[1]\n",
    "st1"
   ]
  },
  {
   "cell_type": "code",
   "execution_count": null,
   "metadata": {},
   "outputs": [],
   "source": [
    "stockfinal = pd.DataFrame(st0.append(st1,ignore_index= True),columns=['stock'])\n",
    "stockfinal"
   ]
  },
  {
   "cell_type": "code",
   "execution_count": null,
   "metadata": {},
   "outputs": [],
   "source": [
    "df_final = pd.concat([nombrefinal, preciosfinal, stockfinal, linksfinal],axis=1)\n",
    "df_final\n"
   ]
  },
  {
   "cell_type": "code",
   "execution_count": null,
   "metadata": {},
   "outputs": [],
   "source": [
    "df_final.nunique()"
   ]
  },
  {
   "cell_type": "code",
   "execution_count": null,
   "metadata": {},
   "outputs": [],
   "source": [
    "df_final =df_final.assign(url= 'https://www.pcfactory.cl')"
   ]
  },
  {
   "cell_type": "code",
   "execution_count": null,
   "metadata": {},
   "outputs": [],
   "source": [
    "df_final.dropna(inplace=True)"
   ]
  },
  {
   "cell_type": "code",
   "execution_count": null,
   "metadata": {},
   "outputs": [],
   "source": [
    "df_final['enlaces'] = df_final['url'] + df_final['links']\n",
    "df_final = df_final.drop(['url'], axis=1)\n",
    "df_final = df_final.drop(['links'], axis=1)\n",
    "df_final"
   ]
  },
  {
   "cell_type": "code",
   "execution_count": 21,
   "metadata": {},
   "outputs": [
    {
     "data": {
      "text/html": [
       "<div>\n",
       "<style scoped>\n",
       "    .dataframe tbody tr th:only-of-type {\n",
       "        vertical-align: middle;\n",
       "    }\n",
       "\n",
       "    .dataframe tbody tr th {\n",
       "        vertical-align: top;\n",
       "    }\n",
       "\n",
       "    .dataframe thead th {\n",
       "        text-align: right;\n",
       "    }\n",
       "</style>\n",
       "<table border=\"1\" class=\"dataframe\">\n",
       "  <thead>\n",
       "    <tr style=\"text-align: right;\">\n",
       "      <th></th>\n",
       "      <th>nombre</th>\n",
       "      <th>precios</th>\n",
       "      <th>stock</th>\n",
       "      <th>enlaces</th>\n",
       "    </tr>\n",
       "  </thead>\n",
       "  <tbody>\n",
       "    <tr>\n",
       "      <th>0</th>\n",
       "      <td>Extensor Cable Riser PEC 300 PCI-E x16</td>\n",
       "      <td>$ 29.990</td>\n",
       "      <td>17</td>\n",
       "      <td>https://www.pcfactory.cl/producto/35084-deepco...</td>\n",
       "    </tr>\n",
       "    <tr>\n",
       "      <th>1</th>\n",
       "      <td>NVIDIA GeForce n210 1024MB DDR3</td>\n",
       "      <td>$ 49.990</td>\n",
       "      <td>2</td>\n",
       "      <td>https://www.pcfactory.cl/producto/15614-msi-vi...</td>\n",
       "    </tr>\n",
       "    <tr>\n",
       "      <th>2</th>\n",
       "      <td>NVIDIA GeForce GT710 1GB GDDR5</td>\n",
       "      <td>$ 74.990</td>\n",
       "      <td>12</td>\n",
       "      <td>https://www.pcfactory.cl/producto/36075-asus-v...</td>\n",
       "    </tr>\n",
       "    <tr>\n",
       "      <th>3</th>\n",
       "      <td>NVIDIA GeForce GT710 SL-2GD5-CSM</td>\n",
       "      <td>$ 84.990</td>\n",
       "      <td>17</td>\n",
       "      <td>https://www.pcfactory.cl/producto/26690-asus-v...</td>\n",
       "    </tr>\n",
       "    <tr>\n",
       "      <th>4</th>\n",
       "      <td>NVIDIA GT730 2GB Low Profile</td>\n",
       "      <td>$ 95.990</td>\n",
       "      <td>+50</td>\n",
       "      <td>https://www.pcfactory.cl/producto/43493-palit-...</td>\n",
       "    </tr>\n",
       "    <tr>\n",
       "      <th>...</th>\n",
       "      <td>...</td>\n",
       "      <td>...</td>\n",
       "      <td>...</td>\n",
       "      <td>...</td>\n",
       "    </tr>\n",
       "    <tr>\n",
       "      <th>81</th>\n",
       "      <td>NVIDIA GeForce RTX3080Ti TUF Gaming O12G</td>\n",
       "      <td>$ 2.049.990</td>\n",
       "      <td>7</td>\n",
       "      <td>https://www.pcfactory.cl/producto/42196-asus-v...</td>\n",
       "    </tr>\n",
       "    <tr>\n",
       "      <th>82</th>\n",
       "      <td>AMD Radeon RX 6900XT 16GB Gaming Z Trio</td>\n",
       "      <td>$ 2.299.990</td>\n",
       "      <td>10</td>\n",
       "      <td>https://www.pcfactory.cl/producto/42020-msi-vi...</td>\n",
       "    </tr>\n",
       "    <tr>\n",
       "      <th>83</th>\n",
       "      <td>NVIDIA GeForce RTX3080Ti O12GB Rog Strix</td>\n",
       "      <td>$ 2.349.990</td>\n",
       "      <td>2</td>\n",
       "      <td>https://www.pcfactory.cl/producto/42195-asus-v...</td>\n",
       "    </tr>\n",
       "    <tr>\n",
       "      <th>84</th>\n",
       "      <td>NVIDIA GeForce RTX3080Ti 12GB Rog Strix LC Gaming</td>\n",
       "      <td>$ 2.499.990</td>\n",
       "      <td>1</td>\n",
       "      <td>https://www.pcfactory.cl/producto/43629-asus-v...</td>\n",
       "    </tr>\n",
       "    <tr>\n",
       "      <th>85</th>\n",
       "      <td>AMD Radeon RX 6900XT Rog Strix LC Gaming 16GB</td>\n",
       "      <td>$ 2.599.990</td>\n",
       "      <td>5</td>\n",
       "      <td>https://www.pcfactory.cl/producto/43642-asus-v...</td>\n",
       "    </tr>\n",
       "  </tbody>\n",
       "</table>\n",
       "<p>86 rows × 4 columns</p>\n",
       "</div>"
      ],
      "text/plain": [
       "                                               nombre      precios stock  \\\n",
       "0             Extensor Cable Riser PEC 300 PCI-E x16      $ 29.990    17   \n",
       "1                     NVIDIA GeForce n210 1024MB DDR3     $ 49.990     2   \n",
       "2                      NVIDIA GeForce GT710 1GB GDDR5     $ 74.990    12   \n",
       "3                    NVIDIA GeForce GT710 SL-2GD5-CSM     $ 84.990    17   \n",
       "4                        NVIDIA GT730 2GB Low Profile     $ 95.990   +50   \n",
       "..                                                ...          ...   ...   \n",
       "81           NVIDIA GeForce RTX3080Ti TUF Gaming O12G  $ 2.049.990     7   \n",
       "82            AMD Radeon RX 6900XT 16GB Gaming Z Trio  $ 2.299.990    10   \n",
       "83          NVIDIA GeForce RTX3080Ti O12GB Rog Strix   $ 2.349.990     2   \n",
       "84  NVIDIA GeForce RTX3080Ti 12GB Rog Strix LC Gaming  $ 2.499.990     1   \n",
       "85      AMD Radeon RX 6900XT Rog Strix LC Gaming 16GB  $ 2.599.990     5   \n",
       "\n",
       "                                              enlaces  \n",
       "0   https://www.pcfactory.cl/producto/35084-deepco...  \n",
       "1   https://www.pcfactory.cl/producto/15614-msi-vi...  \n",
       "2   https://www.pcfactory.cl/producto/36075-asus-v...  \n",
       "3   https://www.pcfactory.cl/producto/26690-asus-v...  \n",
       "4   https://www.pcfactory.cl/producto/43493-palit-...  \n",
       "..                                                ...  \n",
       "81  https://www.pcfactory.cl/producto/42196-asus-v...  \n",
       "82  https://www.pcfactory.cl/producto/42020-msi-vi...  \n",
       "83  https://www.pcfactory.cl/producto/42195-asus-v...  \n",
       "84  https://www.pcfactory.cl/producto/43629-asus-v...  \n",
       "85  https://www.pcfactory.cl/producto/43642-asus-v...  \n",
       "\n",
       "[86 rows x 4 columns]"
      ]
     },
     "execution_count": 21,
     "metadata": {},
     "output_type": "execute_result"
    }
   ],
   "source": [
    "df_final = df_final.drop_duplicates()\n",
    "df_final"
   ]
  },
  {
   "cell_type": "code",
   "execution_count": null,
   "metadata": {},
   "outputs": [],
   "source": [
    "df_final.to_csv('./video_cards/resultados/pcfinal.csv', index=False)"
   ]
  },
  {
   "cell_type": "code",
   "execution_count": null,
   "metadata": {},
   "outputs": [],
   "source": []
  }
 ],
 "metadata": {
  "interpreter": {
   "hash": "ed225720166559e7176d3793db16a2fd8d295f725007103b21ac3099d2a89ee8"
  },
  "kernelspec": {
   "display_name": "Python 3.8.5 ('base')",
   "language": "python",
   "name": "python3"
  },
  "language_info": {
   "codemirror_mode": {
    "name": "ipython",
    "version": 3
   },
   "file_extension": ".py",
   "mimetype": "text/x-python",
   "name": "python",
   "nbconvert_exporter": "python",
   "pygments_lexer": "ipython3",
   "version": "3.8.5"
  },
  "orig_nbformat": 4
 },
 "nbformat": 4,
 "nbformat_minor": 2
}
