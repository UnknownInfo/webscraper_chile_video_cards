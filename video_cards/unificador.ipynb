{
 "cells": [
  {
   "cell_type": "code",
   "execution_count": null,
   "metadata": {},
   "outputs": [],
   "source": [
    "import pandas as pd\n",
    "import numpy as np\n",
    "pc = pd.read_csv('./video_cards/resultados/pcfinal.csv',encoding=\"latin-1\")\n",
    "pc = pc.assign(tienda= 'pcfactory')\n",
    "sp = pd.read_csv('./video_cards/resultados/spfinal.csv', encoding=\"latin-1\")\n",
    "sp = sp.assign(tienda= 'spdigital')\n",
    "wp = pd.read_csv('./video_cards/resultados/wpfinal.csv', encoding=\"latin-1\")\n",
    "wp = wp.assign(tienda= 'winpy')\n",
    "test = pd.concat([pc, sp, wp ])\n",
    "test = test.drop(['Unnamed: 0'], axis=1)\n",
    "#test.dropna(inplace=True)\n",
    "test[['stock']] = test[['stock']].astype(int)\n",
    "test['nombre'] = test['nombre'].str.upper()\n",
    "test['nombre'] = test['nombre'].str.replace('GEFORCE','')\n",
    "test['nombre'] = test['nombre'].str.replace('NVIDIA','')\n",
    "test['nombre'] = test['nombre'].str.replace('AMD','')\n",
    "test['nombre'] = test['nombre'].str.replace('NVIDA','')\n",
    "test['nombre'] = test['nombre'].str.replace('TARJETA DE VIDEO','')"
   ]
  },
  {
   "cell_type": "code",
   "execution_count": null,
   "metadata": {},
   "outputs": [],
   "source": [
    "lista_tarjetas = ['1050TI','1050','1650TI','1650 TI','1650','1660TI','1660 TI','1660S','1660','2060S','2060','2070S','2070', '2080 SUPER', '2080TI','2080 TI','2080', '3050', '3060TI','3060 TI', '3060','3070TI','3070 TI', '3070','3080TI', '3080','3080 TI','3090 TI','3090TI','3090','6500XT','6500 XT','6600XT','6600 XT','6600','6700XT','6700 XT','6700','6800 XT','6800XT','6800','6900XT','6900 XT']\n",
    "cond = [test['nombre'].str.contains(lista, case=False) for lista in lista_tarjetas]\n",
    "test['modelo']=np.select(cond,lista_tarjetas)\n",
    "test['modelo'] = test['modelo'].str.replace(' ','')\n",
    "test['modelo'] = test['modelo'].replace('0', 'OTROS')\n",
    "test= test.sort_values(\"stock\", ascending=True, ignore_index=True)"
   ]
  },
  {
   "cell_type": "code",
   "execution_count": null,
   "metadata": {},
   "outputs": [],
   "source": [
    "#test['precios'] = test['precios'].str.replace('$','', regex =True)\n",
    "#test['precios'] = test['precios'].str.replace('.','')\n",
    "#test['precios'] = pd.to_numeric(test['precios'])\n",
    "#test = test.sort_values(\"precios\", ascending=False)\n",
    "#test"
   ]
  },
  {
   "cell_type": "code",
   "execution_count": null,
   "metadata": {},
   "outputs": [],
   "source": [
    "test2 = round(test.groupby(['modelo'])[['stock']].sum())\n",
    "test2 = test2.sort_values('stock', ascending=False)\n",
    "pd.DataFrame(test2).reset_index(inplace=True, drop=False)\n",
    "filtro = test2['modelo'] !=  'OTROS'\n",
    "test2 = test2[filtro]\n",
    "test2\n",
    "\n"
   ]
  },
  {
   "cell_type": "code",
   "execution_count": 14,
   "metadata": {},
   "outputs": [
    {
     "name": "stderr",
     "output_type": "stream",
     "text": [
      "<ipython-input-14-2735bf9a957a>:2: FutureWarning: The default value of regex will change from True to False in a future version. In addition, single character regular expressions will *not* be treated as literal strings when regex=True.\n",
      "  test['precionumero'] = test['precionumero'].str.replace('$', '').str.replace('.', '')\n"
     ]
    },
    {
     "data": {
      "text/plain": [
       "nombre          object\n",
       "precios         object\n",
       "stock            int32\n",
       "enlaces         object\n",
       "tienda          object\n",
       "modelo          object\n",
       "precionumero     int32\n",
       "dtype: object"
      ]
     },
     "execution_count": 14,
     "metadata": {},
     "output_type": "execute_result"
    }
   ],
   "source": [
    "test['precionumero'] = test['precios']\n",
    "test['precionumero'] = test['precionumero'].str.replace('$', '').str.replace('.', '')\n",
    "test['precionumero'] = test['precionumero'].astype(int)\n"
   ]
  },
  {
   "cell_type": "code",
   "execution_count": null,
   "metadata": {},
   "outputs": [],
   "source": [
    "\n",
    "test.to_csv('./video_cards/resultados/resultadofinal.csv')\n",
    "test2.to_csv('./video_cards/resultados/top_stock.csv')\n",
    "#test"
   ]
  },
  {
   "cell_type": "markdown",
   "metadata": {},
   "source": [
    "agregar enlaces a pandas"
   ]
  },
  {
   "cell_type": "code",
   "execution_count": null,
   "metadata": {},
   "outputs": [],
   "source": [
    "import os as o\n",
    "def fun(path):    \n",
    "    # returns the final component of a url\n",
    "    f_url = o.path.basename(path)      \n",
    "    # convert the url into link\n",
    "    return '<a href=\"{}\">link</a>'.format(path, f_url)\n",
    "\n",
    "test = test.style.format({'enlaces' : fun})\n",
    "test"
   ]
  },
  {
   "cell_type": "code",
   "execution_count": null,
   "metadata": {},
   "outputs": [],
   "source": [
    "#test = test.set_index('nombre')\n",
    "#test\n",
    "#test.index.name=\"modelo de tarjeta\"\n",
    "#test"
   ]
  },
  {
   "cell_type": "code",
   "execution_count": null,
   "metadata": {},
   "outputs": [],
   "source": [
    "test"
   ]
  },
  {
   "cell_type": "code",
   "execution_count": null,
   "metadata": {},
   "outputs": [],
   "source": []
  }
 ],
 "metadata": {
  "interpreter": {
   "hash": "ed225720166559e7176d3793db16a2fd8d295f725007103b21ac3099d2a89ee8"
  },
  "kernelspec": {
   "display_name": "Python 3.8.5 ('base')",
   "language": "python",
   "name": "python3"
  },
  "language_info": {
   "codemirror_mode": {
    "name": "ipython",
    "version": 3
   },
   "file_extension": ".py",
   "mimetype": "text/x-python",
   "name": "python",
   "nbconvert_exporter": "python",
   "pygments_lexer": "ipython3",
   "version": "3.8.5"
  },
  "orig_nbformat": 4
 },
 "nbformat": 4,
 "nbformat_minor": 2
}
