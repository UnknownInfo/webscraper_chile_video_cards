{
 "cells": [
  {
   "cell_type": "code",
   "execution_count": 47,
   "metadata": {},
   "outputs": [],
   "source": [
    "import pandas as pd\n",
    "import numpy as np\n",
    "from babel.numbers import format_currency"
   ]
  },
  {
   "cell_type": "code",
   "execution_count": null,
   "metadata": {},
   "outputs": [],
   "source": [
    "df = pd.read_csv('./TECNOMASTERTEST.csv')\n",
    "df"
   ]
  },
  {
   "cell_type": "code",
   "execution_count": null,
   "metadata": {},
   "outputs": [],
   "source": []
  },
  {
   "cell_type": "code",
   "execution_count": null,
   "metadata": {},
   "outputs": [],
   "source": [
    "import pandas as pd\n",
    "import numpy as np\n",
    "from babel.numbers import format_currency\n",
    "df.dropna(inplace=True)\n",
    "df['precios'] = df['precios'].astype(int)\n",
    "df['precios'] = df['precios'].apply(lambda x: format_currency(x, currency=\"CLP\", locale=\"es_CL\"))\n",
    "#df = df['nombre'].unique()\n",
    "df = df.drop_duplicates()\n",
    "df['stock'] = df['stock'].str.replace('disponibles', '') \n",
    "df['stock'] = df['stock'].astype(int)\n"
   ]
  },
  {
   "cell_type": "code",
   "execution_count": 58,
   "metadata": {},
   "outputs": [
    {
     "data": {
      "text/html": [
       "<div>\n",
       "<style scoped>\n",
       "    .dataframe tbody tr th:only-of-type {\n",
       "        vertical-align: middle;\n",
       "    }\n",
       "\n",
       "    .dataframe tbody tr th {\n",
       "        vertical-align: top;\n",
       "    }\n",
       "\n",
       "    .dataframe thead th {\n",
       "        text-align: right;\n",
       "    }\n",
       "</style>\n",
       "<table border=\"1\" class=\"dataframe\">\n",
       "  <thead>\n",
       "    <tr style=\"text-align: right;\">\n",
       "      <th></th>\n",
       "      <th>nombre</th>\n",
       "      <th>precios</th>\n",
       "      <th>stock</th>\n",
       "      <th>enlaces</th>\n",
       "    </tr>\n",
       "  </thead>\n",
       "  <tbody>\n",
       "    <tr>\n",
       "      <th>0</th>\n",
       "      <td>Intel Core i3-12100F (LGA1700, 4 Cores, 8 Hilo...</td>\n",
       "      <td>$124.990</td>\n",
       "      <td>4</td>\n",
       "      <td>https://tecno-master.cl/producto/intel-core-i3...</td>\n",
       "    </tr>\n",
       "    <tr>\n",
       "      <th>1</th>\n",
       "      <td>Gigabyte NVIDIA GeForce GTX 1660 Ti OC</td>\n",
       "      <td>$614.990</td>\n",
       "      <td>1</td>\n",
       "      <td>https://tecno-master.cl/producto/gigabyte-nvid...</td>\n",
       "    </tr>\n",
       "    <tr>\n",
       "      <th>2</th>\n",
       "      <td>Gigabyte GeForce GTX 1660 SUPER OC 6GB</td>\n",
       "      <td>$545.450</td>\n",
       "      <td>4</td>\n",
       "      <td>https://tecno-master.cl/producto/gigabyte-gefo...</td>\n",
       "    </tr>\n",
       "    <tr>\n",
       "      <th>3</th>\n",
       "      <td>MSI GeForce GTX 1650 VENTUS XS 4G OC</td>\n",
       "      <td>$395.000</td>\n",
       "      <td>1</td>\n",
       "      <td>https://tecno-master.cl/producto/msi-geforce-g...</td>\n",
       "    </tr>\n",
       "    <tr>\n",
       "      <th>4</th>\n",
       "      <td>ARMADO DE PC N° 34 [i5-9500]</td>\n",
       "      <td>$392.990</td>\n",
       "      <td>1</td>\n",
       "      <td>https://tecno-master.cl/producto/armado-de-pc-...</td>\n",
       "    </tr>\n",
       "    <tr>\n",
       "      <th>5</th>\n",
       "      <td>Teclado Thermaltake Neptune Pro Blue Light (KB...</td>\n",
       "      <td>$54.980</td>\n",
       "      <td>3</td>\n",
       "      <td>https://tecno-master.cl/producto/teclado-therm...</td>\n",
       "    </tr>\n",
       "    <tr>\n",
       "      <th>7</th>\n",
       "      <td>Intel Core i3-10105F (LGA1200, 3.7GHz, 4 Núcle...</td>\n",
       "      <td>$89.050</td>\n",
       "      <td>4</td>\n",
       "      <td>https://tecno-master.cl/producto/intel-core-i3...</td>\n",
       "    </tr>\n",
       "    <tr>\n",
       "      <th>8</th>\n",
       "      <td>Gigabyte GeForce RTX 3080 Ti VISION OC 12GB</td>\n",
       "      <td>$1.789.800</td>\n",
       "      <td>2</td>\n",
       "      <td>https://tecno-master.cl/producto/gigabyte-gefo...</td>\n",
       "    </tr>\n",
       "    <tr>\n",
       "      <th>9</th>\n",
       "      <td>MSI Radeon RX 6900 XT GAMING Z TRIO 16G</td>\n",
       "      <td>$1.628.890</td>\n",
       "      <td>2</td>\n",
       "      <td>https://tecno-master.cl/producto/msi-radeon-rx...</td>\n",
       "    </tr>\n",
       "    <tr>\n",
       "      <th>10</th>\n",
       "      <td>Gigabyte GeForce NVIDIA GT 730</td>\n",
       "      <td>$108.900</td>\n",
       "      <td>1</td>\n",
       "      <td>https://tecno-master.cl/producto/gigabyte-gefo...</td>\n",
       "    </tr>\n",
       "  </tbody>\n",
       "</table>\n",
       "</div>"
      ],
      "text/plain": [
       "                                               nombre     precios  stock  \\\n",
       "0   Intel Core i3-12100F (LGA1700, 4 Cores, 8 Hilo...    $124.990      4   \n",
       "1              Gigabyte NVIDIA GeForce GTX 1660 Ti OC    $614.990      1   \n",
       "2              Gigabyte GeForce GTX 1660 SUPER OC 6GB    $545.450      4   \n",
       "3                MSI GeForce GTX 1650 VENTUS XS 4G OC    $395.000      1   \n",
       "4                        ARMADO DE PC N° 34 [i5-9500]    $392.990      1   \n",
       "5   Teclado Thermaltake Neptune Pro Blue Light (KB...     $54.980      3   \n",
       "7   Intel Core i3-10105F (LGA1200, 3.7GHz, 4 Núcle...     $89.050      4   \n",
       "8         Gigabyte GeForce RTX 3080 Ti VISION OC 12GB  $1.789.800      2   \n",
       "9             MSI Radeon RX 6900 XT GAMING Z TRIO 16G  $1.628.890      2   \n",
       "10                     Gigabyte GeForce NVIDIA GT 730    $108.900      1   \n",
       "\n",
       "                                              enlaces  \n",
       "0   https://tecno-master.cl/producto/intel-core-i3...  \n",
       "1   https://tecno-master.cl/producto/gigabyte-nvid...  \n",
       "2   https://tecno-master.cl/producto/gigabyte-gefo...  \n",
       "3   https://tecno-master.cl/producto/msi-geforce-g...  \n",
       "4   https://tecno-master.cl/producto/armado-de-pc-...  \n",
       "5   https://tecno-master.cl/producto/teclado-therm...  \n",
       "7   https://tecno-master.cl/producto/intel-core-i3...  \n",
       "8   https://tecno-master.cl/producto/gigabyte-gefo...  \n",
       "9   https://tecno-master.cl/producto/msi-radeon-rx...  \n",
       "10  https://tecno-master.cl/producto/gigabyte-gefo...  "
      ]
     },
     "execution_count": 58,
     "metadata": {},
     "output_type": "execute_result"
    }
   ],
   "source": [
    "df"
   ]
  },
  {
   "cell_type": "code",
   "execution_count": null,
   "metadata": {},
   "outputs": [],
   "source": []
  },
  {
   "cell_type": "code",
   "execution_count": null,
   "metadata": {},
   "outputs": [],
   "source": []
  },
  {
   "cell_type": "code",
   "execution_count": null,
   "metadata": {},
   "outputs": [],
   "source": [
    "df"
   ]
  },
  {
   "cell_type": "code",
   "execution_count": null,
   "metadata": {},
   "outputs": [],
   "source": []
  }
 ],
 "metadata": {
  "interpreter": {
   "hash": "31f2aee4e71d21fbe5cf8b01ff0e069b9275f58929596ceb00d14d90e3e16cd6"
  },
  "kernelspec": {
   "display_name": "Python 3.8.10 64-bit",
   "language": "python",
   "name": "python3"
  },
  "language_info": {
   "codemirror_mode": {
    "name": "ipython",
    "version": 3
   },
   "file_extension": ".py",
   "mimetype": "text/x-python",
   "name": "python",
   "nbconvert_exporter": "python",
   "pygments_lexer": "ipython3",
   "version": "3.8.10"
  },
  "orig_nbformat": 4
 },
 "nbformat": 4,
 "nbformat_minor": 2
}
