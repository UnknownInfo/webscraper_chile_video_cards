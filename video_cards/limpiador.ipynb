{
 "cells": [
  {
   "cell_type": "code",
   "execution_count": null,
   "metadata": {},
   "outputs": [],
   "source": [
    "\n",
    "import matplotlib.pyplot as plt\n",
    "import pandas as pd\n",
    "import numpy as np\n"
   ]
  },
  {
   "cell_type": "code",
   "execution_count": null,
   "metadata": {},
   "outputs": [],
   "source": [
    "datos = pd.read_csv('pcfactory.csv',delimiter=',')\n",
    "datos"
   ]
  },
  {
   "cell_type": "code",
   "execution_count": null,
   "metadata": {},
   "outputs": [],
   "source": [
    "precios_p = datos['precios_p']\n",
    "precios_p"
   ]
  },
  {
   "cell_type": "code",
   "execution_count": null,
   "metadata": {},
   "outputs": [],
   "source": [
    "nombre_p = datos['nombre_p']\n",
    "nombre_p = nombre_p.str.replace(\"\\n                                \",\"\")\n",
    "nombre_p = nombre_p.str.replace(\"                            \",\"\")\n",
    "nombre_p = nombre_p.str.replace(\"\\n\",\",\")\n",
    "nombre_p"
   ]
  },
  {
   "cell_type": "markdown",
   "metadata": {},
   "source": [
    "spliteamos las comas en columnas y sacamos la traspuesta con .T"
   ]
  },
  {
   "cell_type": "code",
   "execution_count": null,
   "metadata": {},
   "outputs": [],
   "source": [
    "nombre_p = nombre_p.str.split(\",\", expand=True).T\n",
    "nombre_p"
   ]
  },
  {
   "cell_type": "code",
   "execution_count": null,
   "metadata": {},
   "outputs": [],
   "source": [
    "precios_p = precios_p.str.split(\",\", expand=True).T\n",
    "precios_p"
   ]
  },
  {
   "cell_type": "code",
   "execution_count": null,
   "metadata": {},
   "outputs": [],
   "source": [
    "stock_p = datos['stock_p']\n",
    "stock_p"
   ]
  },
  {
   "cell_type": "code",
   "execution_count": null,
   "metadata": {},
   "outputs": [],
   "source": [
    "stock_p =stock_p.str.split(\",\", expand=True).T\n",
    "stock_p"
   ]
  },
  {
   "cell_type": "code",
   "execution_count": null,
   "metadata": {},
   "outputs": [],
   "source": [
    "df_final = df_final.drop_duplicates()"
   ]
  },
  {
   "cell_type": "code",
   "execution_count": null,
   "metadata": {},
   "outputs": [],
   "source": [
    "df_final = pd.concat([nombre_p, precios_p, stock_p],axis=1)\n",
    "df_final\n"
   ]
  },
  {
   "cell_type": "code",
   "execution_count": null,
   "metadata": {},
   "outputs": [],
   "source": [
    "df_final.columns = ['NombreProducto', 'Precio', 'Stock']\n",
    "df_final"
   ]
  },
  {
   "cell_type": "code",
   "execution_count": null,
   "metadata": {},
   "outputs": [],
   "source": [
    "headerList = ['Nombre_Producto','Precio']\n",
    "df_final.to_excel('final.xlsx',header=headerList, index=False)"
   ]
  },
  {
   "cell_type": "code",
   "execution_count": null,
   "metadata": {},
   "outputs": [],
   "source": [
    "print(type(df_final))"
   ]
  },
  {
   "cell_type": "code",
   "execution_count": null,
   "metadata": {},
   "outputs": [],
   "source": [
    "df_final.nunique()"
   ]
  },
  {
   "cell_type": "code",
   "execution_count": null,
   "metadata": {},
   "outputs": [],
   "source": [
    "df_final.columns = ['NombreProducto', 'Precio']"
   ]
  },
  {
   "cell_type": "code",
   "execution_count": null,
   "metadata": {},
   "outputs": [],
   "source": [
    "df_final = df_final.drop_duplicates()"
   ]
  },
  {
   "cell_type": "code",
   "execution_count": null,
   "metadata": {},
   "outputs": [],
   "source": [
    "df_final.describe(include='all')"
   ]
  },
  {
   "cell_type": "code",
   "execution_count": null,
   "metadata": {},
   "outputs": [],
   "source": [
    "df_final"
   ]
  },
  {
   "cell_type": "code",
   "execution_count": null,
   "metadata": {},
   "outputs": [],
   "source": [
    "df_final.to_csv('resultado.csv', index=False)"
   ]
  },
  {
   "cell_type": "code",
   "execution_count": 1,
   "metadata": {},
   "outputs": [],
   "source": [
    "import pandas as pd"
   ]
  },
  {
   "cell_type": "code",
   "execution_count": 6,
   "metadata": {},
   "outputs": [
    {
     "data": {
      "text/html": [
       "<div>\n",
       "<style scoped>\n",
       "    .dataframe tbody tr th:only-of-type {\n",
       "        vertical-align: middle;\n",
       "    }\n",
       "\n",
       "    .dataframe tbody tr th {\n",
       "        vertical-align: top;\n",
       "    }\n",
       "\n",
       "    .dataframe thead th {\n",
       "        text-align: right;\n",
       "    }\n",
       "</style>\n",
       "<table border=\"1\" class=\"dataframe\">\n",
       "  <thead>\n",
       "    <tr style=\"text-align: right;\">\n",
       "      <th></th>\n",
       "      <th>nombre</th>\n",
       "      <th>precios</th>\n",
       "      <th>stock</th>\n",
       "      <th>enlaces</th>\n",
       "    </tr>\n",
       "  </thead>\n",
       "  <tbody>\n",
       "    <tr>\n",
       "      <th>0</th>\n",
       "      <td>(1GB GDDR3)</td>\n",
       "      <td>$ 43.776</td>\n",
       "      <td>5</td>\n",
       "      <td>https://www.winpy.cl/venta/tarjeta-de-video-ms...</td>\n",
       "    </tr>\n",
       "    <tr>\n",
       "      <th>1</th>\n",
       "      <td>Zotac Gaming GeForce RTX 3080 Trinity LHR de 1...</td>\n",
       "      <td>$ 1.699.968</td>\n",
       "      <td>4</td>\n",
       "      <td>https://www.winpy.cl/venta/tarjeta-de-video-zo...</td>\n",
       "    </tr>\n",
       "    <tr>\n",
       "      <th>2</th>\n",
       "      <td>MSI GeForce RTX 3080 Ti GAMING X TRIO de 12GB ...</td>\n",
       "      <td>$ 2.104.896</td>\n",
       "      <td>3</td>\n",
       "      <td>https://www.winpy.cl/venta/tarjeta-de-video-ms...</td>\n",
       "    </tr>\n",
       "    <tr>\n",
       "      <th>3</th>\n",
       "      <td>ASUS TUF Gaming GeForce RTX 3080 Ti de 12GB GD...</td>\n",
       "      <td>$ 2.321.344</td>\n",
       "      <td>4</td>\n",
       "      <td>https://www.winpy.cl/venta/tarjeta-de-video-as...</td>\n",
       "    </tr>\n",
       "    <tr>\n",
       "      <th>4</th>\n",
       "      <td>ZOTAC GAMING GeForce RTX 3070 Twin Edge LHR de...</td>\n",
       "      <td>$ 1.210.528</td>\n",
       "      <td>1</td>\n",
       "      <td>https://www.winpy.cl/venta/tarjeta-de-video-zo...</td>\n",
       "    </tr>\n",
       "    <tr>\n",
       "      <th>5</th>\n",
       "      <td>MSI AMD Radeon RX 6900 XT GAMING Z TRIO 16GB G...</td>\n",
       "      <td>$ 1.768.672</td>\n",
       "      <td>33</td>\n",
       "      <td>https://www.winpy.cl/venta/tarjeta-de-video-ms...</td>\n",
       "    </tr>\n",
       "    <tr>\n",
       "      <th>6</th>\n",
       "      <td>ASUS ROG Strix GeForce RTX 3090 OC White Editi...</td>\n",
       "      <td>$ 3.099.584</td>\n",
       "      <td>1</td>\n",
       "      <td>https://www.winpy.cl/venta/tarjeta-de-video-as...</td>\n",
       "    </tr>\n",
       "    <tr>\n",
       "      <th>7</th>\n",
       "      <td>Zotac Gaming GeForce RTX 3080 Ti Trinity de 12...</td>\n",
       "      <td>$ 2.047.136</td>\n",
       "      <td>1</td>\n",
       "      <td>https://www.winpy.cl/venta/tarjeta-de-video-zo...</td>\n",
       "    </tr>\n",
       "    <tr>\n",
       "      <th>8</th>\n",
       "      <td>Zotac Gaming GeForce RTX 3060 Ti Twin Edge LHR...</td>\n",
       "      <td>$ 929.632</td>\n",
       "      <td>10</td>\n",
       "      <td>https://www.winpy.cl/venta/tarjeta-de-video-zo...</td>\n",
       "    </tr>\n",
       "    <tr>\n",
       "      <th>9</th>\n",
       "      <td>Zotac Gaming GeForce RTX 3060 Twin Edge de 12G...</td>\n",
       "      <td>$ 759.392</td>\n",
       "      <td>9</td>\n",
       "      <td>https://www.winpy.cl/venta/tarjeta-de-video-zo...</td>\n",
       "    </tr>\n",
       "    <tr>\n",
       "      <th>10</th>\n",
       "      <td>ASUS Dual Radeon RX 6600 de 8GB GDDR6</td>\n",
       "      <td>$ 649.952</td>\n",
       "      <td>2</td>\n",
       "      <td>https://www.winpy.cl/venta/tarjeta-de-video-as...</td>\n",
       "    </tr>\n",
       "    <tr>\n",
       "      <th>11</th>\n",
       "      <td>ZOTAC GeForce GTX 1660 SUPER AMP de 6GB GDDR6</td>\n",
       "      <td>$ 629.888</td>\n",
       "      <td>25</td>\n",
       "      <td>https://www.winpy.cl/venta/tarjeta-de-video-zo...</td>\n",
       "    </tr>\n",
       "    <tr>\n",
       "      <th>12</th>\n",
       "      <td>ZOTAC GAMING GeForce RTX 2060 Black de 6GB GDDR6</td>\n",
       "      <td>$ 604.960</td>\n",
       "      <td>10</td>\n",
       "      <td>https://www.winpy.cl/venta/tarjeta-de-video-zo...</td>\n",
       "    </tr>\n",
       "    <tr>\n",
       "      <th>13</th>\n",
       "      <td>Zotac Gaming GeForce GTX 1650 AMP de 4GB GDDR6</td>\n",
       "      <td>$ 399.456</td>\n",
       "      <td>30</td>\n",
       "      <td>https://www.winpy.cl/venta/tarjeta-de-video-zo...</td>\n",
       "    </tr>\n",
       "    <tr>\n",
       "      <th>14</th>\n",
       "      <td>ASUS GeForce GT 730 de 2GB GDDR5</td>\n",
       "      <td>$ 107.616</td>\n",
       "      <td>31</td>\n",
       "      <td>https://www.winpy.cl/venta/tarjeta-de-video-as...</td>\n",
       "    </tr>\n",
       "  </tbody>\n",
       "</table>\n",
       "</div>"
      ],
      "text/plain": [
       "                                               nombre      precios  stock  \\\n",
       "0                                         (1GB GDDR3)     $ 43.776      5   \n",
       "1   Zotac Gaming GeForce RTX 3080 Trinity LHR de 1...  $ 1.699.968      4   \n",
       "2   MSI GeForce RTX 3080 Ti GAMING X TRIO de 12GB ...  $ 2.104.896      3   \n",
       "3   ASUS TUF Gaming GeForce RTX 3080 Ti de 12GB GD...  $ 2.321.344      4   \n",
       "4   ZOTAC GAMING GeForce RTX 3070 Twin Edge LHR de...  $ 1.210.528      1   \n",
       "5   MSI AMD Radeon RX 6900 XT GAMING Z TRIO 16GB G...  $ 1.768.672     33   \n",
       "6   ASUS ROG Strix GeForce RTX 3090 OC White Editi...  $ 3.099.584      1   \n",
       "7   Zotac Gaming GeForce RTX 3080 Ti Trinity de 12...  $ 2.047.136      1   \n",
       "8   Zotac Gaming GeForce RTX 3060 Ti Twin Edge LHR...    $ 929.632     10   \n",
       "9   Zotac Gaming GeForce RTX 3060 Twin Edge de 12G...    $ 759.392      9   \n",
       "10              ASUS Dual Radeon RX 6600 de 8GB GDDR6    $ 649.952      2   \n",
       "11      ZOTAC GeForce GTX 1660 SUPER AMP de 6GB GDDR6    $ 629.888     25   \n",
       "12   ZOTAC GAMING GeForce RTX 2060 Black de 6GB GDDR6    $ 604.960     10   \n",
       "13     Zotac Gaming GeForce GTX 1650 AMP de 4GB GDDR6    $ 399.456     30   \n",
       "14                   ASUS GeForce GT 730 de 2GB GDDR5    $ 107.616     31   \n",
       "\n",
       "                                              enlaces  \n",
       "0   https://www.winpy.cl/venta/tarjeta-de-video-ms...  \n",
       "1   https://www.winpy.cl/venta/tarjeta-de-video-zo...  \n",
       "2   https://www.winpy.cl/venta/tarjeta-de-video-ms...  \n",
       "3   https://www.winpy.cl/venta/tarjeta-de-video-as...  \n",
       "4   https://www.winpy.cl/venta/tarjeta-de-video-zo...  \n",
       "5   https://www.winpy.cl/venta/tarjeta-de-video-ms...  \n",
       "6   https://www.winpy.cl/venta/tarjeta-de-video-as...  \n",
       "7   https://www.winpy.cl/venta/tarjeta-de-video-zo...  \n",
       "8   https://www.winpy.cl/venta/tarjeta-de-video-zo...  \n",
       "9   https://www.winpy.cl/venta/tarjeta-de-video-zo...  \n",
       "10  https://www.winpy.cl/venta/tarjeta-de-video-as...  \n",
       "11  https://www.winpy.cl/venta/tarjeta-de-video-zo...  \n",
       "12  https://www.winpy.cl/venta/tarjeta-de-video-zo...  \n",
       "13  https://www.winpy.cl/venta/tarjeta-de-video-zo...  \n",
       "14  https://www.winpy.cl/venta/tarjeta-de-video-as...  "
      ]
     },
     "execution_count": 6,
     "metadata": {},
     "output_type": "execute_result"
    }
   ],
   "source": [
    "df = pd.read_csv('./video_cards/resultados/winpy.csv')\n",
    "df"
   ]
  },
  {
   "cell_type": "code",
   "execution_count": null,
   "metadata": {},
   "outputs": [],
   "source": []
  }
 ],
 "metadata": {
  "interpreter": {
   "hash": "ed225720166559e7176d3793db16a2fd8d295f725007103b21ac3099d2a89ee8"
  },
  "kernelspec": {
   "display_name": "Python 3.8.5 ('base')",
   "language": "python",
   "name": "python3"
  },
  "language_info": {
   "codemirror_mode": {
    "name": "ipython",
    "version": 3
   },
   "file_extension": ".py",
   "mimetype": "text/x-python",
   "name": "python",
   "nbconvert_exporter": "python",
   "pygments_lexer": "ipython3",
   "version": "3.8.5"
  },
  "orig_nbformat": 4
 },
 "nbformat": 4,
 "nbformat_minor": 2
}
